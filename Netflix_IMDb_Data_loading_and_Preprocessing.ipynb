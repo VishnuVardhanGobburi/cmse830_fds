{
 "cells": [
  {
   "cell_type": "code",
   "execution_count": 1,
   "id": "2058886a",
   "metadata": {},
   "outputs": [],
   "source": [
    "import numpy as np\n",
    "import pandas as pd"
   ]
  },
  {
   "cell_type": "markdown",
   "id": "8ec28c50",
   "metadata": {},
   "source": [
    "## Data Loading"
   ]
  },
  {
   "cell_type": "markdown",
   "id": "9ee11ad1",
   "metadata": {},
   "source": [
    "- Load Netflix dataset"
   ]
  },
  {
   "cell_type": "code",
   "execution_count": 2,
   "id": "42b5c8c3",
   "metadata": {},
   "outputs": [],
   "source": [
    "netflix_df=pd.read_csv('netflix_titles.csv', usecols=['title','type','director','country','release_year','rating','duration','listed_in'])"
   ]
  },
  {
   "cell_type": "code",
   "execution_count": 3,
   "id": "06f5486a",
   "metadata": {},
   "outputs": [
    {
     "data": {
      "text/html": [
       "<div>\n",
       "<style scoped>\n",
       "    .dataframe tbody tr th:only-of-type {\n",
       "        vertical-align: middle;\n",
       "    }\n",
       "\n",
       "    .dataframe tbody tr th {\n",
       "        vertical-align: top;\n",
       "    }\n",
       "\n",
       "    .dataframe thead th {\n",
       "        text-align: right;\n",
       "    }\n",
       "</style>\n",
       "<table border=\"1\" class=\"dataframe\">\n",
       "  <thead>\n",
       "    <tr style=\"text-align: right;\">\n",
       "      <th></th>\n",
       "      <th>type</th>\n",
       "      <th>title</th>\n",
       "      <th>director</th>\n",
       "      <th>country</th>\n",
       "      <th>release_year</th>\n",
       "      <th>rating</th>\n",
       "      <th>duration</th>\n",
       "      <th>listed_in</th>\n",
       "    </tr>\n",
       "  </thead>\n",
       "  <tbody>\n",
       "    <tr>\n",
       "      <th>0</th>\n",
       "      <td>Movie</td>\n",
       "      <td>Dick Johnson Is Dead</td>\n",
       "      <td>Kirsten Johnson</td>\n",
       "      <td>United States</td>\n",
       "      <td>2020</td>\n",
       "      <td>PG-13</td>\n",
       "      <td>90 min</td>\n",
       "      <td>Documentaries</td>\n",
       "    </tr>\n",
       "    <tr>\n",
       "      <th>1</th>\n",
       "      <td>TV Show</td>\n",
       "      <td>Blood &amp; Water</td>\n",
       "      <td>NaN</td>\n",
       "      <td>South Africa</td>\n",
       "      <td>2021</td>\n",
       "      <td>TV-MA</td>\n",
       "      <td>2 Seasons</td>\n",
       "      <td>International TV Shows, TV Dramas, TV Mysteries</td>\n",
       "    </tr>\n",
       "    <tr>\n",
       "      <th>2</th>\n",
       "      <td>TV Show</td>\n",
       "      <td>Ganglands</td>\n",
       "      <td>Julien Leclercq</td>\n",
       "      <td>NaN</td>\n",
       "      <td>2021</td>\n",
       "      <td>TV-MA</td>\n",
       "      <td>1 Season</td>\n",
       "      <td>Crime TV Shows, International TV Shows, TV Act...</td>\n",
       "    </tr>\n",
       "    <tr>\n",
       "      <th>3</th>\n",
       "      <td>TV Show</td>\n",
       "      <td>Jailbirds New Orleans</td>\n",
       "      <td>NaN</td>\n",
       "      <td>NaN</td>\n",
       "      <td>2021</td>\n",
       "      <td>TV-MA</td>\n",
       "      <td>1 Season</td>\n",
       "      <td>Docuseries, Reality TV</td>\n",
       "    </tr>\n",
       "    <tr>\n",
       "      <th>4</th>\n",
       "      <td>TV Show</td>\n",
       "      <td>Kota Factory</td>\n",
       "      <td>NaN</td>\n",
       "      <td>India</td>\n",
       "      <td>2021</td>\n",
       "      <td>TV-MA</td>\n",
       "      <td>2 Seasons</td>\n",
       "      <td>International TV Shows, Romantic TV Shows, TV ...</td>\n",
       "    </tr>\n",
       "  </tbody>\n",
       "</table>\n",
       "</div>"
      ],
      "text/plain": [
       "      type                  title         director        country  \\\n",
       "0    Movie   Dick Johnson Is Dead  Kirsten Johnson  United States   \n",
       "1  TV Show          Blood & Water              NaN   South Africa   \n",
       "2  TV Show              Ganglands  Julien Leclercq            NaN   \n",
       "3  TV Show  Jailbirds New Orleans              NaN            NaN   \n",
       "4  TV Show           Kota Factory              NaN          India   \n",
       "\n",
       "   release_year rating   duration  \\\n",
       "0          2020  PG-13     90 min   \n",
       "1          2021  TV-MA  2 Seasons   \n",
       "2          2021  TV-MA   1 Season   \n",
       "3          2021  TV-MA   1 Season   \n",
       "4          2021  TV-MA  2 Seasons   \n",
       "\n",
       "                                           listed_in  \n",
       "0                                      Documentaries  \n",
       "1    International TV Shows, TV Dramas, TV Mysteries  \n",
       "2  Crime TV Shows, International TV Shows, TV Act...  \n",
       "3                             Docuseries, Reality TV  \n",
       "4  International TV Shows, Romantic TV Shows, TV ...  "
      ]
     },
     "execution_count": 3,
     "metadata": {},
     "output_type": "execute_result"
    }
   ],
   "source": [
    "netflix_df.head()"
   ]
  },
  {
   "cell_type": "markdown",
   "id": "9c567342",
   "metadata": {},
   "source": [
    "- IMDb basics\n",
    "- Since the dataset is large (contains more than 10m records), loading it entirely is inefficient. To efficiently explore the data, we will initially load only a subset of rows using nrows and select only the necessary columns."
   ]
  },
  {
   "cell_type": "code",
   "execution_count": 4,
   "id": "05b44558",
   "metadata": {
    "scrolled": true
   },
   "outputs": [
    {
     "data": {
      "text/html": [
       "<div>\n",
       "<style scoped>\n",
       "    .dataframe tbody tr th:only-of-type {\n",
       "        vertical-align: middle;\n",
       "    }\n",
       "\n",
       "    .dataframe tbody tr th {\n",
       "        vertical-align: top;\n",
       "    }\n",
       "\n",
       "    .dataframe thead th {\n",
       "        text-align: right;\n",
       "    }\n",
       "</style>\n",
       "<table border=\"1\" class=\"dataframe\">\n",
       "  <thead>\n",
       "    <tr style=\"text-align: right;\">\n",
       "      <th></th>\n",
       "      <th>tconst</th>\n",
       "      <th>titleType</th>\n",
       "      <th>primaryTitle</th>\n",
       "      <th>originalTitle</th>\n",
       "      <th>isAdult</th>\n",
       "      <th>startYear</th>\n",
       "      <th>endYear</th>\n",
       "      <th>runtimeMinutes</th>\n",
       "      <th>genres</th>\n",
       "    </tr>\n",
       "  </thead>\n",
       "  <tbody>\n",
       "    <tr>\n",
       "      <th>0</th>\n",
       "      <td>tt0000001</td>\n",
       "      <td>short</td>\n",
       "      <td>Carmencita</td>\n",
       "      <td>Carmencita</td>\n",
       "      <td>0</td>\n",
       "      <td>1894</td>\n",
       "      <td>NaN</td>\n",
       "      <td>1.0</td>\n",
       "      <td>Documentary,Short</td>\n",
       "    </tr>\n",
       "    <tr>\n",
       "      <th>1</th>\n",
       "      <td>tt0000002</td>\n",
       "      <td>short</td>\n",
       "      <td>Le clown et ses chiens</td>\n",
       "      <td>Le clown et ses chiens</td>\n",
       "      <td>0</td>\n",
       "      <td>1892</td>\n",
       "      <td>NaN</td>\n",
       "      <td>5.0</td>\n",
       "      <td>Animation,Short</td>\n",
       "    </tr>\n",
       "    <tr>\n",
       "      <th>2</th>\n",
       "      <td>tt0000003</td>\n",
       "      <td>short</td>\n",
       "      <td>Poor Pierrot</td>\n",
       "      <td>Pauvre Pierrot</td>\n",
       "      <td>0</td>\n",
       "      <td>1892</td>\n",
       "      <td>NaN</td>\n",
       "      <td>5.0</td>\n",
       "      <td>Animation,Comedy,Romance</td>\n",
       "    </tr>\n",
       "    <tr>\n",
       "      <th>3</th>\n",
       "      <td>tt0000004</td>\n",
       "      <td>short</td>\n",
       "      <td>Un bon bock</td>\n",
       "      <td>Un bon bock</td>\n",
       "      <td>0</td>\n",
       "      <td>1892</td>\n",
       "      <td>NaN</td>\n",
       "      <td>12.0</td>\n",
       "      <td>Animation,Short</td>\n",
       "    </tr>\n",
       "    <tr>\n",
       "      <th>4</th>\n",
       "      <td>tt0000005</td>\n",
       "      <td>short</td>\n",
       "      <td>Blacksmith Scene</td>\n",
       "      <td>Blacksmith Scene</td>\n",
       "      <td>0</td>\n",
       "      <td>1893</td>\n",
       "      <td>NaN</td>\n",
       "      <td>1.0</td>\n",
       "      <td>Short</td>\n",
       "    </tr>\n",
       "  </tbody>\n",
       "</table>\n",
       "</div>"
      ],
      "text/plain": [
       "      tconst titleType            primaryTitle           originalTitle  \\\n",
       "0  tt0000001     short              Carmencita              Carmencita   \n",
       "1  tt0000002     short  Le clown et ses chiens  Le clown et ses chiens   \n",
       "2  tt0000003     short            Poor Pierrot          Pauvre Pierrot   \n",
       "3  tt0000004     short             Un bon bock             Un bon bock   \n",
       "4  tt0000005     short        Blacksmith Scene        Blacksmith Scene   \n",
       "\n",
       "   isAdult  startYear  endYear  runtimeMinutes                    genres  \n",
       "0        0       1894      NaN             1.0         Documentary,Short  \n",
       "1        0       1892      NaN             5.0           Animation,Short  \n",
       "2        0       1892      NaN             5.0  Animation,Comedy,Romance  \n",
       "3        0       1892      NaN            12.0           Animation,Short  \n",
       "4        0       1893      NaN             1.0                     Short  "
      ]
     },
     "execution_count": 4,
     "metadata": {},
     "output_type": "execute_result"
    }
   ],
   "source": [
    "url = \"https://datasets.imdbws.com/\"\n",
    "imdb_basics_df_temp = pd.read_csv(url+\"title.basics.tsv.gz\", sep='\\t', compression='gzip', na_values='\\\\N', nrows=50)\n",
    "imdb_basics_df_temp.head()"
   ]
  },
  {
   "cell_type": "code",
   "execution_count": 5,
   "id": "68aba23a",
   "metadata": {},
   "outputs": [],
   "source": [
    "imdb_basics_df= pd.read_csv(url+\"title.basics.tsv.gz\", sep='\\t', compression='gzip', na_values='\\\\N', usecols=['tconst','titleType','primaryTitle','isAdult','startYear'])"
   ]
  },
  {
   "cell_type": "code",
   "execution_count": 6,
   "id": "1f6cd8f5",
   "metadata": {},
   "outputs": [],
   "source": [
    "imdb_basics_df= imdb_basics_df[imdb_basics_df['titleType'].isin(['movie','tvMovie','tvSeries','tvMiniSeries'])]"
   ]
  },
  {
   "cell_type": "code",
   "execution_count": 7,
   "id": "4f5537a7",
   "metadata": {},
   "outputs": [],
   "source": [
    "imdb_ratings_df=pd.read_csv(url+\"title.ratings.tsv.gz\", sep='\\t', compression='gzip', na_values='\\\\N')"
   ]
  },
  {
   "cell_type": "code",
   "execution_count": 8,
   "id": "e8c226f9",
   "metadata": {},
   "outputs": [
    {
     "data": {
      "text/html": [
       "<div>\n",
       "<style scoped>\n",
       "    .dataframe tbody tr th:only-of-type {\n",
       "        vertical-align: middle;\n",
       "    }\n",
       "\n",
       "    .dataframe tbody tr th {\n",
       "        vertical-align: top;\n",
       "    }\n",
       "\n",
       "    .dataframe thead th {\n",
       "        text-align: right;\n",
       "    }\n",
       "</style>\n",
       "<table border=\"1\" class=\"dataframe\">\n",
       "  <thead>\n",
       "    <tr style=\"text-align: right;\">\n",
       "      <th></th>\n",
       "      <th>tconst</th>\n",
       "      <th>averageRating</th>\n",
       "      <th>numVotes</th>\n",
       "    </tr>\n",
       "  </thead>\n",
       "  <tbody>\n",
       "    <tr>\n",
       "      <th>0</th>\n",
       "      <td>tt0000001</td>\n",
       "      <td>5.7</td>\n",
       "      <td>2182</td>\n",
       "    </tr>\n",
       "    <tr>\n",
       "      <th>1</th>\n",
       "      <td>tt0000002</td>\n",
       "      <td>5.5</td>\n",
       "      <td>302</td>\n",
       "    </tr>\n",
       "    <tr>\n",
       "      <th>2</th>\n",
       "      <td>tt0000003</td>\n",
       "      <td>6.4</td>\n",
       "      <td>2256</td>\n",
       "    </tr>\n",
       "    <tr>\n",
       "      <th>3</th>\n",
       "      <td>tt0000004</td>\n",
       "      <td>5.2</td>\n",
       "      <td>194</td>\n",
       "    </tr>\n",
       "    <tr>\n",
       "      <th>4</th>\n",
       "      <td>tt0000005</td>\n",
       "      <td>6.2</td>\n",
       "      <td>2994</td>\n",
       "    </tr>\n",
       "  </tbody>\n",
       "</table>\n",
       "</div>"
      ],
      "text/plain": [
       "      tconst  averageRating  numVotes\n",
       "0  tt0000001            5.7      2182\n",
       "1  tt0000002            5.5       302\n",
       "2  tt0000003            6.4      2256\n",
       "3  tt0000004            5.2       194\n",
       "4  tt0000005            6.2      2994"
      ]
     },
     "execution_count": 8,
     "metadata": {},
     "output_type": "execute_result"
    }
   ],
   "source": [
    "imdb_ratings_df.head()"
   ]
  },
  {
   "cell_type": "markdown",
   "id": "81ff2ce7",
   "metadata": {},
   "source": [
    "## Data Preprocessing"
   ]
  },
  {
   "cell_type": "markdown",
   "id": "b8b2907f",
   "metadata": {},
   "source": [
    "#### Basic Information about all the datasets"
   ]
  },
  {
   "cell_type": "code",
   "execution_count": 9,
   "id": "6e4d604e",
   "metadata": {},
   "outputs": [],
   "source": [
    "def basic_information(*dfs):\n",
    "    for i, df in enumerate(dfs, 1):\n",
    "        print(\"\\n\" + \"-\"*30 + f\" DataFrame {i} \" + \"-\"*30 + \"\\n\")\n",
    "        \n",
    "        print(\"Basic Info:\")\n",
    "        print(df.info())\n",
    "        \n",
    "        print(\"\\nDuplicates Check:\")\n",
    "        print(f\"Number of duplicate rows: {df.duplicated().sum()}\")\n",
    "        \n",
    "        print(\"\\nNull Value Check:\")\n",
    "        print(df.isna().sum())\n",
    "        \n",
    "        print(\"\\nUnique Values Check:\")\n",
    "        print(df.nunique())\n",
    "        print(\"\\n\" + \"=\"*70 + \"\\n\")\n"
   ]
  },
  {
   "cell_type": "code",
   "execution_count": 10,
   "id": "e177d7e4",
   "metadata": {
    "scrolled": true
   },
   "outputs": [
    {
     "name": "stdout",
     "output_type": "stream",
     "text": [
      "\n",
      "------------------------------ DataFrame 1 ------------------------------\n",
      "\n",
      "Basic Info:\n",
      "<class 'pandas.core.frame.DataFrame'>\n",
      "RangeIndex: 8807 entries, 0 to 8806\n",
      "Data columns (total 8 columns):\n",
      " #   Column        Non-Null Count  Dtype \n",
      "---  ------        --------------  ----- \n",
      " 0   type          8807 non-null   object\n",
      " 1   title         8807 non-null   object\n",
      " 2   director      6173 non-null   object\n",
      " 3   country       7976 non-null   object\n",
      " 4   release_year  8807 non-null   int64 \n",
      " 5   rating        8803 non-null   object\n",
      " 6   duration      8804 non-null   object\n",
      " 7   listed_in     8807 non-null   object\n",
      "dtypes: int64(1), object(7)\n",
      "memory usage: 550.6+ KB\n",
      "None\n",
      "\n",
      "Duplicates Check:\n",
      "Number of duplicate rows: 0\n",
      "\n",
      "Null Value Check:\n",
      "type               0\n",
      "title              0\n",
      "director        2634\n",
      "country          831\n",
      "release_year       0\n",
      "rating             4\n",
      "duration           3\n",
      "listed_in          0\n",
      "dtype: int64\n",
      "\n",
      "Unique Values Check:\n",
      "type               2\n",
      "title           8807\n",
      "director        4528\n",
      "country          748\n",
      "release_year      74\n",
      "rating            17\n",
      "duration         220\n",
      "listed_in        514\n",
      "dtype: int64\n",
      "\n",
      "======================================================================\n",
      "\n",
      "\n",
      "------------------------------ DataFrame 2 ------------------------------\n",
      "\n",
      "Basic Info:\n",
      "<class 'pandas.core.frame.DataFrame'>\n",
      "Int64Index: 1236351 entries, 8 to 11981257\n",
      "Data columns (total 5 columns):\n",
      " #   Column        Non-Null Count    Dtype  \n",
      "---  ------        --------------    -----  \n",
      " 0   tconst        1236351 non-null  object \n",
      " 1   titleType     1236351 non-null  object \n",
      " 2   primaryTitle  1236350 non-null  object \n",
      " 3   isAdult       1236351 non-null  int64  \n",
      " 4   startYear     1095858 non-null  float64\n",
      "dtypes: float64(1), int64(1), object(3)\n",
      "memory usage: 56.6+ MB\n",
      "None\n",
      "\n",
      "Duplicates Check:\n",
      "Number of duplicate rows: 0\n",
      "\n",
      "Null Value Check:\n",
      "tconst               0\n",
      "titleType            0\n",
      "primaryTitle         1\n",
      "isAdult              0\n",
      "startYear       140493\n",
      "dtype: int64\n",
      "\n",
      "Unique Values Check:\n",
      "tconst          1236351\n",
      "titleType             4\n",
      "primaryTitle    1050655\n",
      "isAdult               2\n",
      "startYear           138\n",
      "dtype: int64\n",
      "\n",
      "======================================================================\n",
      "\n",
      "\n",
      "------------------------------ DataFrame 3 ------------------------------\n",
      "\n",
      "Basic Info:\n",
      "<class 'pandas.core.frame.DataFrame'>\n",
      "RangeIndex: 1627391 entries, 0 to 1627390\n",
      "Data columns (total 3 columns):\n",
      " #   Column         Non-Null Count    Dtype  \n",
      "---  ------         --------------    -----  \n",
      " 0   tconst         1627391 non-null  object \n",
      " 1   averageRating  1627391 non-null  float64\n",
      " 2   numVotes       1627391 non-null  int64  \n",
      "dtypes: float64(1), int64(1), object(1)\n",
      "memory usage: 37.2+ MB\n",
      "None\n",
      "\n",
      "Duplicates Check:\n",
      "Number of duplicate rows: 0\n",
      "\n",
      "Null Value Check:\n",
      "tconst           0\n",
      "averageRating    0\n",
      "numVotes         0\n",
      "dtype: int64\n",
      "\n",
      "Unique Values Check:\n",
      "tconst           1627391\n",
      "averageRating         91\n",
      "numVotes           23851\n",
      "dtype: int64\n",
      "\n",
      "======================================================================\n",
      "\n"
     ]
    }
   ],
   "source": [
    "basic_information(netflix_df,imdb_basics_df,imdb_ratings_df)"
   ]
  },
  {
   "cell_type": "markdown",
   "id": "c334bf35",
   "metadata": {},
   "source": [
    "- From the above result we could see that there are null values for Netflix data and IMDb bascis data. No duplicates found\n",
    "for all the datasets\n",
    "- We could see that the type for \"start year\" is float64, lets convert it to Int64 as it is not practical to contain\n",
    "decimal values for any year.\n",
    "- Also by observing the Netflix data, we could see the below observations\n",
    "    - \"Duration\"1 is considered as string value as it contains \"min\" and \"seasons\" for movie and TV show categories respectively. So, lets make the Duration column into two and convert it to Integer data type\n",
    "    - \"Director\", \"Country\", \"listed_in\" columns contain multiple values for a single record seperated by comma. So, lets explode them to ensure each record contains only single value."
   ]
  },
  {
   "cell_type": "markdown",
   "id": "9d65bb77",
   "metadata": {},
   "source": [
    "### Let's view the unique values of few colums"
   ]
  },
  {
   "cell_type": "code",
   "execution_count": 10,
   "id": "87777862",
   "metadata": {},
   "outputs": [],
   "source": [
    "def view_unique_values(*dfs, max_values=20):\n",
    "    \n",
    "    for i, df in enumerate(dfs, 1):\n",
    "        print(f\"\\n{'='*40}\\nDataFrame {i}\\n{'='*40}\")\n",
    "        \n",
    "        for col in df.columns:\n",
    "            unique_count = df[col].nunique(dropna=False)\n",
    "            print(f\"\\n{'-'*30}\\nColumn: {col}\\nUnique Count: {unique_count}\")\n",
    "            \n",
    "            unique_vals = df[col].unique()\n",
    "            if unique_count <= max_values:\n",
    "                print(\"Unique Values:\", unique_vals)\n",
    "            elif unique_count <= 150:\n",
    "                print(\"Sample Unique Values:\", unique_vals[:max_values], \"...\")\n",
    "            \n"
   ]
  },
  {
   "cell_type": "code",
   "execution_count": 12,
   "id": "85d5ca43",
   "metadata": {},
   "outputs": [
    {
     "name": "stdout",
     "output_type": "stream",
     "text": [
      "\n",
      "========================================\n",
      "DataFrame 1\n",
      "========================================\n",
      "\n",
      "------------------------------\n",
      "Column: type\n",
      "Unique Count: 2\n",
      "Unique Values: ['Movie' 'TV Show']\n",
      "\n",
      "------------------------------\n",
      "Column: title\n",
      "Unique Count: 8807\n",
      "\n",
      "------------------------------\n",
      "Column: director\n",
      "Unique Count: 4529\n",
      "\n",
      "------------------------------\n",
      "Column: country\n",
      "Unique Count: 749\n",
      "\n",
      "------------------------------\n",
      "Column: release_year\n",
      "Unique Count: 74\n",
      "Sample Unique Values: [2020 2021 1993 2018 1996 1998 1997 2010 2013 2017 1975 1978 1983 1987\n",
      " 2012 2001 2014 2002 2003 2004] ...\n",
      "\n",
      "------------------------------\n",
      "Column: rating\n",
      "Unique Count: 18\n",
      "Unique Values: ['PG-13' 'TV-MA' 'PG' 'TV-14' 'TV-PG' 'TV-Y' 'TV-Y7' 'R' 'TV-G' 'G'\n",
      " 'NC-17' '74 min' '84 min' '66 min' 'NR' nan 'TV-Y7-FV' 'UR']\n",
      "\n",
      "------------------------------\n",
      "Column: duration\n",
      "Unique Count: 221\n",
      "\n",
      "------------------------------\n",
      "Column: listed_in\n",
      "Unique Count: 514\n",
      "\n",
      "========================================\n",
      "DataFrame 2\n",
      "========================================\n",
      "\n",
      "------------------------------\n",
      "Column: tconst\n",
      "Unique Count: 1236351\n",
      "\n",
      "------------------------------\n",
      "Column: titleType\n",
      "Unique Count: 4\n",
      "Unique Values: ['movie' 'tvMovie' 'tvSeries' 'tvMiniSeries']\n",
      "\n",
      "------------------------------\n",
      "Column: primaryTitle\n",
      "Unique Count: 1050656\n",
      "\n",
      "------------------------------\n",
      "Column: isAdult\n",
      "Unique Count: 2\n",
      "Unique Values: [0 1]\n",
      "\n",
      "------------------------------\n",
      "Column: startYear\n",
      "Unique Count: 139\n",
      "Sample Unique Values: [1894. 1897. 1905. 1906. 1907. 1908. 1909. 1910. 1912. 1911. 1913. 1915.\n",
      " 1914. 1919. 1916. 1917. 1936. 1925. 1918. 1922.] ...\n"
     ]
    }
   ],
   "source": [
    "view_unique_values(netflix_df,imdb_basics_df)"
   ]
  },
  {
   "cell_type": "markdown",
   "id": "48cc7ce5",
   "metadata": {},
   "source": [
    "#### Function to convert the data type"
   ]
  },
  {
   "cell_type": "code",
   "execution_count": 11,
   "id": "ca8cf523",
   "metadata": {},
   "outputs": [],
   "source": [
    "def data_type_conversion(df, datatype, *columns):\n",
    "    for col in columns:\n",
    "        df[col] = df[col].astype(datatype)\n"
   ]
  },
  {
   "cell_type": "markdown",
   "id": "db3ce39d",
   "metadata": {},
   "source": [
    "#### Converting \"start year\" column to integer"
   ]
  },
  {
   "cell_type": "code",
   "execution_count": 12,
   "id": "30b73049",
   "metadata": {},
   "outputs": [
    {
     "name": "stdout",
     "output_type": "stream",
     "text": [
      "<class 'pandas.core.frame.DataFrame'>\n",
      "Int64Index: 1236351 entries, 8 to 11981257\n",
      "Data columns (total 5 columns):\n",
      " #   Column        Non-Null Count    Dtype \n",
      "---  ------        --------------    ----- \n",
      " 0   tconst        1236351 non-null  object\n",
      " 1   titleType     1236351 non-null  object\n",
      " 2   primaryTitle  1236350 non-null  object\n",
      " 3   isAdult       1236351 non-null  int64 \n",
      " 4   startYear     1095858 non-null  Int64 \n",
      "dtypes: Int64(1), int64(1), object(3)\n",
      "memory usage: 57.8+ MB\n"
     ]
    }
   ],
   "source": [
    "data_type_conversion(imdb_basics_df,'Int64','startYear')\n",
    "imdb_basics_df.info()"
   ]
  },
  {
   "cell_type": "markdown",
   "id": "90b752b6",
   "metadata": {},
   "source": [
    "#### Transforming the \"duration\" column and changing the data type to Integer"
   ]
  },
  {
   "cell_type": "code",
   "execution_count": 13,
   "id": "bf9ba8b0",
   "metadata": {},
   "outputs": [],
   "source": [
    "# Extract numeric part from duration\n",
    "netflix_df['duration_num'] = netflix_df['duration'].str.extract('(\\d+)').astype(float)\n",
    "\n",
    "# Separating the columns\n",
    "netflix_df['Movie_duration'] = np.where(netflix_df['type']=='Movie', netflix_df['duration_num'], np.nan)\n",
    "netflix_df['TV Show_duration'] = np.where(netflix_df['type']=='TV Show', netflix_df['duration_num'], np.nan)\n",
    "\n",
    "# Drop the old column\n",
    "netflix_df.drop(columns=['duration', 'duration_num'], inplace=True)\n",
    "\n",
    "# Converting the datatype to Integer\n",
    "data_type_conversion(netflix_df,'Int64','Movie_duration','TV Show_duration')"
   ]
  },
  {
   "cell_type": "markdown",
   "id": "275824fc",
   "metadata": {},
   "source": [
    "#### Verify the results"
   ]
  },
  {
   "cell_type": "code",
   "execution_count": 14,
   "id": "edac7261",
   "metadata": {},
   "outputs": [
    {
     "name": "stdout",
     "output_type": "stream",
     "text": [
      "<class 'pandas.core.frame.DataFrame'>\n",
      "RangeIndex: 8807 entries, 0 to 8806\n",
      "Data columns (total 9 columns):\n",
      " #   Column            Non-Null Count  Dtype \n",
      "---  ------            --------------  ----- \n",
      " 0   type              8807 non-null   object\n",
      " 1   title             8807 non-null   object\n",
      " 2   director          6173 non-null   object\n",
      " 3   country           7976 non-null   object\n",
      " 4   release_year      8807 non-null   int64 \n",
      " 5   rating            8803 non-null   object\n",
      " 6   listed_in         8807 non-null   object\n",
      " 7   Movie_duration    6128 non-null   Int64 \n",
      " 8   TV Show_duration  2676 non-null   Int64 \n",
      "dtypes: Int64(2), int64(1), object(6)\n",
      "memory usage: 636.6+ KB\n"
     ]
    }
   ],
   "source": [
    "netflix_df.info()"
   ]
  },
  {
   "cell_type": "markdown",
   "id": "998cb1d1",
   "metadata": {},
   "source": [
    "#### Exploding the columns - director, country, listed_in"
   ]
  },
  {
   "cell_type": "code",
   "execution_count": 15,
   "id": "c2953967",
   "metadata": {},
   "outputs": [],
   "source": [
    "netflix_df['director'] = netflix_df['director'].str.split(', ')\n",
    "netflix_df['country'] = netflix_df['country'].str.split(', ')\n",
    "netflix_df['listed_in'] = netflix_df['listed_in'].str.split(', ')\n",
    "netflix_df = netflix_df.explode('director').explode('country').explode('listed_in').reset_index(drop=True)"
   ]
  },
  {
   "cell_type": "markdown",
   "id": "37abc9cb",
   "metadata": {},
   "source": [
    "#### Verify the results"
   ]
  },
  {
   "cell_type": "code",
   "execution_count": 16,
   "id": "acbc827c",
   "metadata": {},
   "outputs": [
    {
     "name": "stdout",
     "output_type": "stream",
     "text": [
      "['Kirsten Johnson' nan 'Julien Leclercq' ... 'Majid Al Ansari'\n",
      " 'Peter Hewitt' 'Mozez Singh']\n",
      "\n",
      "['United States' 'South Africa' nan 'India' 'Ghana' 'Burkina Faso'\n",
      " 'United Kingdom' 'Germany' 'Ethiopia' 'Czech Republic' 'Mexico' 'Turkey'\n",
      " 'Australia' 'France' 'Finland' 'China' 'Canada' 'Japan' 'Nigeria' 'Spain'\n",
      " 'Belgium' 'South Korea' 'Singapore' 'Italy' 'Romania' 'Argentina'\n",
      " 'Venezuela' 'Hong Kong' 'Russia' '' 'Ireland' 'Nepal' 'New Zealand'\n",
      " 'Brazil' 'Greece' 'Jordan' 'Colombia' 'Switzerland' 'Israel' 'Taiwan'\n",
      " 'Bulgaria' 'Algeria' 'Poland' 'Saudi Arabia' 'Thailand' 'Indonesia'\n",
      " 'Egypt' 'Denmark' 'Kuwait' 'Netherlands' 'Malaysia' 'Vietnam' 'Hungary'\n",
      " 'Sweden' 'Lebanon' 'Syria' 'Philippines' 'Iceland' 'United Arab Emirates'\n",
      " 'Norway' 'Qatar' 'Mauritius' 'Austria' 'Cameroon' 'Palestine' 'Uruguay'\n",
      " 'United Kingdom,' 'Kenya' 'Chile' 'Luxembourg' 'Cambodia' 'Bangladesh'\n",
      " 'Portugal' 'Cayman Islands' 'Senegal' 'Serbia' 'Malta' 'Namibia' 'Angola'\n",
      " 'Peru' 'Mozambique' 'Cambodia,' 'Belarus' 'Zimbabwe' 'Puerto Rico'\n",
      " 'Pakistan' 'Cyprus' 'Guatemala' 'Iraq' 'Malawi' 'Paraguay' 'Croatia'\n",
      " 'Iran' 'West Germany' 'United States,' 'Albania' 'Georgia' 'Soviet Union'\n",
      " 'Morocco' 'Slovakia' 'Ukraine' 'Bermuda' 'Ecuador' 'Armenia' 'Mongolia'\n",
      " 'Bahamas' 'Sri Lanka' 'Latvia' 'Liechtenstein' 'Cuba' 'Nicaragua'\n",
      " 'Poland,' 'Slovenia' 'Dominican Republic' 'Samoa' 'Azerbaijan' 'Botswana'\n",
      " 'Vatican City' 'Jamaica' 'Kazakhstan' 'Lithuania' 'Afghanistan' 'Somalia'\n",
      " 'Sudan' 'Panama' 'Uganda' 'East Germany' 'Montenegro']\n",
      "\n",
      "['Documentaries' 'International TV Shows' 'TV Dramas' 'TV Mysteries'\n",
      " 'Crime TV Shows' 'TV Action & Adventure' 'Docuseries' 'Reality TV'\n",
      " 'Romantic TV Shows' 'TV Comedies' 'TV Horror' 'Children & Family Movies'\n",
      " 'Dramas' 'Independent Movies' 'International Movies' 'British TV Shows'\n",
      " 'Comedies' 'Spanish-Language TV Shows' 'Thrillers' 'Romantic Movies'\n",
      " 'Music & Musicals' 'Horror Movies' 'Sci-Fi & Fantasy' 'TV Thrillers'\n",
      " \"Kids' TV\" 'Action & Adventure' 'TV Sci-Fi & Fantasy' 'Classic Movies'\n",
      " 'Anime Features' 'Sports Movies' 'Anime Series' 'Korean TV Shows'\n",
      " 'Science & Nature TV' 'Teen TV Shows' 'Cult Movies' 'TV Shows'\n",
      " 'Faith & Spirituality' 'LGBTQ Movies' 'Stand-Up Comedy' 'Movies'\n",
      " 'Stand-Up Comedy & Talk Shows' 'Classic & Cult TV']\n"
     ]
    }
   ],
   "source": [
    "print(netflix_df['director'].unique())\n",
    "print()\n",
    "print(netflix_df['country'].unique())\n",
    "print()\n",
    "print(netflix_df['listed_in'].unique())"
   ]
  },
  {
   "cell_type": "markdown",
   "id": "e6e9659b",
   "metadata": {},
   "source": [
    "## Imputation"
   ]
  },
  {
   "cell_type": "code",
   "execution_count": 17,
   "id": "8922030b",
   "metadata": {},
   "outputs": [],
   "source": [
    "netflix_df['director']=netflix_df['director'].fillna(\"Unknown\")"
   ]
  },
  {
   "cell_type": "code",
   "execution_count": 22,
   "id": "bfeda14e",
   "metadata": {},
   "outputs": [
    {
     "data": {
      "text/plain": [
       "type                    0\n",
       "title                   0\n",
       "director                0\n",
       "country                 0\n",
       "release_year            0\n",
       "rating                  0\n",
       "listed_in               0\n",
       "Movie_duration       7093\n",
       "TV Show_duration    18800\n",
       "dtype: int64"
      ]
     },
     "execution_count": 22,
     "metadata": {},
     "output_type": "execute_result"
    }
   ],
   "source": [
    "netflix_df.isna().sum()"
   ]
  },
  {
   "cell_type": "code",
   "execution_count": 19,
   "id": "550a56e3",
   "metadata": {},
   "outputs": [],
   "source": [
    "netflix_df['country']=netflix_df['country'].fillna(netflix_df['country'].mode()[0])"
   ]
  },
  {
   "cell_type": "code",
   "execution_count": 21,
   "id": "26b73db2",
   "metadata": {},
   "outputs": [],
   "source": [
    "#netflix_df['rating']=netflix_df['rating'].fillna(\"NR\")\n",
    "netflix_df['rating']=np.where(netflix_df['rating'].str.contains('min', na=False) | netflix_df['rating'].isna() , \"NR\",netflix_df['rating']) "
   ]
  },
  {
   "cell_type": "code",
   "execution_count": 23,
   "id": "1791e2b6",
   "metadata": {},
   "outputs": [
    {
     "data": {
      "text/plain": [
       "6"
      ]
     },
     "execution_count": 23,
     "metadata": {},
     "output_type": "execute_result"
    }
   ],
   "source": [
    "netflix_df.duplicated().sum()"
   ]
  },
  {
   "cell_type": "code",
   "execution_count": 24,
   "id": "ec6cfb39",
   "metadata": {},
   "outputs": [],
   "source": [
    "netflix_df=netflix_df.drop_duplicates()"
   ]
  },
  {
   "cell_type": "code",
   "execution_count": 25,
   "id": "e2e1b733",
   "metadata": {},
   "outputs": [
    {
     "data": {
      "text/plain": [
       "array(['United States', 'South Africa', 'India', 'Ghana', 'Burkina Faso',\n",
       "       'United Kingdom', 'Germany', 'Ethiopia', 'Czech Republic',\n",
       "       'Mexico', 'Turkey', 'Australia', 'France', 'Finland', 'China',\n",
       "       'Canada', 'Japan', 'Nigeria', 'Spain', 'Belgium', 'South Korea',\n",
       "       'Singapore', 'Italy', 'Romania', 'Argentina', 'Venezuela',\n",
       "       'Hong Kong', 'Russia', '', 'Ireland', 'Nepal', 'New Zealand',\n",
       "       'Brazil', 'Greece', 'Jordan', 'Colombia', 'Switzerland', 'Israel',\n",
       "       'Taiwan', 'Bulgaria', 'Algeria', 'Poland', 'Saudi Arabia',\n",
       "       'Thailand', 'Indonesia', 'Egypt', 'Denmark', 'Kuwait',\n",
       "       'Netherlands', 'Malaysia', 'Vietnam', 'Hungary', 'Sweden',\n",
       "       'Lebanon', 'Syria', 'Philippines', 'Iceland',\n",
       "       'United Arab Emirates', 'Norway', 'Qatar', 'Mauritius', 'Austria',\n",
       "       'Cameroon', 'Palestine', 'Uruguay', 'United Kingdom,', 'Kenya',\n",
       "       'Chile', 'Luxembourg', 'Cambodia', 'Bangladesh', 'Portugal',\n",
       "       'Cayman Islands', 'Senegal', 'Serbia', 'Malta', 'Namibia',\n",
       "       'Angola', 'Peru', 'Mozambique', 'Cambodia,', 'Belarus', 'Zimbabwe',\n",
       "       'Puerto Rico', 'Pakistan', 'Cyprus', 'Guatemala', 'Iraq', 'Malawi',\n",
       "       'Paraguay', 'Croatia', 'Iran', 'West Germany', 'United States,',\n",
       "       'Albania', 'Georgia', 'Soviet Union', 'Morocco', 'Slovakia',\n",
       "       'Ukraine', 'Bermuda', 'Ecuador', 'Armenia', 'Mongolia', 'Bahamas',\n",
       "       'Sri Lanka', 'Latvia', 'Liechtenstein', 'Cuba', 'Nicaragua',\n",
       "       'Poland,', 'Slovenia', 'Dominican Republic', 'Samoa', 'Azerbaijan',\n",
       "       'Botswana', 'Vatican City', 'Jamaica', 'Kazakhstan', 'Lithuania',\n",
       "       'Afghanistan', 'Somalia', 'Sudan', 'Panama', 'Uganda',\n",
       "       'East Germany', 'Montenegro'], dtype=object)"
      ]
     },
     "execution_count": 25,
     "metadata": {},
     "output_type": "execute_result"
    }
   ],
   "source": [
    "netflix_df['country'].unique()"
   ]
  },
  {
   "cell_type": "code",
   "execution_count": 27,
   "id": "3c508d59",
   "metadata": {},
   "outputs": [],
   "source": [
    "imdb_basics_df['startYear']=imdb_basics_df['startYear'].fillna(-1)"
   ]
  },
  {
   "cell_type": "code",
   "execution_count": 28,
   "id": "e980577c",
   "metadata": {},
   "outputs": [
    {
     "name": "stdout",
     "output_type": "stream",
     "text": [
      "<class 'pandas.core.frame.DataFrame'>\n",
      "Int64Index: 1236351 entries, 8 to 11981257\n",
      "Data columns (total 5 columns):\n",
      " #   Column        Non-Null Count    Dtype \n",
      "---  ------        --------------    ----- \n",
      " 0   tconst        1236351 non-null  object\n",
      " 1   titleType     1236351 non-null  object\n",
      " 2   primaryTitle  1236350 non-null  object\n",
      " 3   isAdult       1236351 non-null  int64 \n",
      " 4   startYear     1236351 non-null  Int64 \n",
      "dtypes: Int64(1), int64(1), object(3)\n",
      "memory usage: 57.8+ MB\n"
     ]
    }
   ],
   "source": [
    "imdb_basics_df.info()"
   ]
  },
  {
   "cell_type": "code",
   "execution_count": 29,
   "id": "615f45df",
   "metadata": {},
   "outputs": [],
   "source": [
    "netflix_imdb_df=netflix_df.merge(imdb_basics_df,left_on=['title','release_year'], right_on=['primaryTitle','startYear']).merge(imdb_ratings_df,on='tconst')"
   ]
  },
  {
   "cell_type": "code",
   "execution_count": 30,
   "id": "e69b1149",
   "metadata": {},
   "outputs": [
    {
     "data": {
      "text/plain": [
       "(17781, 16)"
      ]
     },
     "execution_count": 30,
     "metadata": {},
     "output_type": "execute_result"
    }
   ],
   "source": [
    "netflix_imdb_df.shape"
   ]
  },
  {
   "cell_type": "code",
   "execution_count": 31,
   "id": "3f9d7cf2",
   "metadata": {},
   "outputs": [
    {
     "data": {
      "text/html": [
       "<div>\n",
       "<style scoped>\n",
       "    .dataframe tbody tr th:only-of-type {\n",
       "        vertical-align: middle;\n",
       "    }\n",
       "\n",
       "    .dataframe tbody tr th {\n",
       "        vertical-align: top;\n",
       "    }\n",
       "\n",
       "    .dataframe thead th {\n",
       "        text-align: right;\n",
       "    }\n",
       "</style>\n",
       "<table border=\"1\" class=\"dataframe\">\n",
       "  <thead>\n",
       "    <tr style=\"text-align: right;\">\n",
       "      <th></th>\n",
       "      <th>type</th>\n",
       "      <th>title</th>\n",
       "      <th>director</th>\n",
       "      <th>country</th>\n",
       "      <th>release_year</th>\n",
       "      <th>rating</th>\n",
       "      <th>listed_in</th>\n",
       "      <th>Movie_duration</th>\n",
       "      <th>TV Show_duration</th>\n",
       "      <th>tconst</th>\n",
       "      <th>titleType</th>\n",
       "      <th>primaryTitle</th>\n",
       "      <th>isAdult</th>\n",
       "      <th>startYear</th>\n",
       "      <th>averageRating</th>\n",
       "      <th>numVotes</th>\n",
       "    </tr>\n",
       "  </thead>\n",
       "  <tbody>\n",
       "    <tr>\n",
       "      <th>0</th>\n",
       "      <td>Movie</td>\n",
       "      <td>Dick Johnson Is Dead</td>\n",
       "      <td>Kirsten Johnson</td>\n",
       "      <td>United States</td>\n",
       "      <td>2020</td>\n",
       "      <td>PG-13</td>\n",
       "      <td>Documentaries</td>\n",
       "      <td>90</td>\n",
       "      <td>&lt;NA&gt;</td>\n",
       "      <td>tt11394180</td>\n",
       "      <td>movie</td>\n",
       "      <td>Dick Johnson Is Dead</td>\n",
       "      <td>0</td>\n",
       "      <td>2020</td>\n",
       "      <td>7.4</td>\n",
       "      <td>7549</td>\n",
       "    </tr>\n",
       "    <tr>\n",
       "      <th>1</th>\n",
       "      <td>TV Show</td>\n",
       "      <td>Ganglands</td>\n",
       "      <td>Julien Leclercq</td>\n",
       "      <td>United States</td>\n",
       "      <td>2021</td>\n",
       "      <td>TV-MA</td>\n",
       "      <td>Crime TV Shows</td>\n",
       "      <td>&lt;NA&gt;</td>\n",
       "      <td>1</td>\n",
       "      <td>tt13278100</td>\n",
       "      <td>tvSeries</td>\n",
       "      <td>Ganglands</td>\n",
       "      <td>0</td>\n",
       "      <td>2021</td>\n",
       "      <td>7.2</td>\n",
       "      <td>4913</td>\n",
       "    </tr>\n",
       "    <tr>\n",
       "      <th>2</th>\n",
       "      <td>TV Show</td>\n",
       "      <td>Ganglands</td>\n",
       "      <td>Julien Leclercq</td>\n",
       "      <td>United States</td>\n",
       "      <td>2021</td>\n",
       "      <td>TV-MA</td>\n",
       "      <td>International TV Shows</td>\n",
       "      <td>&lt;NA&gt;</td>\n",
       "      <td>1</td>\n",
       "      <td>tt13278100</td>\n",
       "      <td>tvSeries</td>\n",
       "      <td>Ganglands</td>\n",
       "      <td>0</td>\n",
       "      <td>2021</td>\n",
       "      <td>7.2</td>\n",
       "      <td>4913</td>\n",
       "    </tr>\n",
       "    <tr>\n",
       "      <th>3</th>\n",
       "      <td>TV Show</td>\n",
       "      <td>Ganglands</td>\n",
       "      <td>Julien Leclercq</td>\n",
       "      <td>United States</td>\n",
       "      <td>2021</td>\n",
       "      <td>TV-MA</td>\n",
       "      <td>TV Action &amp; Adventure</td>\n",
       "      <td>&lt;NA&gt;</td>\n",
       "      <td>1</td>\n",
       "      <td>tt13278100</td>\n",
       "      <td>tvSeries</td>\n",
       "      <td>Ganglands</td>\n",
       "      <td>0</td>\n",
       "      <td>2021</td>\n",
       "      <td>7.2</td>\n",
       "      <td>4913</td>\n",
       "    </tr>\n",
       "    <tr>\n",
       "      <th>4</th>\n",
       "      <td>TV Show</td>\n",
       "      <td>Jailbirds New Orleans</td>\n",
       "      <td>Unknown</td>\n",
       "      <td>United States</td>\n",
       "      <td>2021</td>\n",
       "      <td>TV-MA</td>\n",
       "      <td>Docuseries</td>\n",
       "      <td>&lt;NA&gt;</td>\n",
       "      <td>1</td>\n",
       "      <td>tt15320436</td>\n",
       "      <td>tvSeries</td>\n",
       "      <td>Jailbirds New Orleans</td>\n",
       "      <td>0</td>\n",
       "      <td>2021</td>\n",
       "      <td>6.5</td>\n",
       "      <td>337</td>\n",
       "    </tr>\n",
       "  </tbody>\n",
       "</table>\n",
       "</div>"
      ],
      "text/plain": [
       "      type                  title         director        country  \\\n",
       "0    Movie   Dick Johnson Is Dead  Kirsten Johnson  United States   \n",
       "1  TV Show              Ganglands  Julien Leclercq  United States   \n",
       "2  TV Show              Ganglands  Julien Leclercq  United States   \n",
       "3  TV Show              Ganglands  Julien Leclercq  United States   \n",
       "4  TV Show  Jailbirds New Orleans          Unknown  United States   \n",
       "\n",
       "   release_year rating               listed_in  Movie_duration  \\\n",
       "0          2020  PG-13           Documentaries              90   \n",
       "1          2021  TV-MA          Crime TV Shows            <NA>   \n",
       "2          2021  TV-MA  International TV Shows            <NA>   \n",
       "3          2021  TV-MA   TV Action & Adventure            <NA>   \n",
       "4          2021  TV-MA              Docuseries            <NA>   \n",
       "\n",
       "   TV Show_duration      tconst titleType           primaryTitle  isAdult  \\\n",
       "0              <NA>  tt11394180     movie   Dick Johnson Is Dead        0   \n",
       "1                 1  tt13278100  tvSeries              Ganglands        0   \n",
       "2                 1  tt13278100  tvSeries              Ganglands        0   \n",
       "3                 1  tt13278100  tvSeries              Ganglands        0   \n",
       "4                 1  tt15320436  tvSeries  Jailbirds New Orleans        0   \n",
       "\n",
       "   startYear  averageRating  numVotes  \n",
       "0       2020            7.4      7549  \n",
       "1       2021            7.2      4913  \n",
       "2       2021            7.2      4913  \n",
       "3       2021            7.2      4913  \n",
       "4       2021            6.5       337  "
      ]
     },
     "execution_count": 31,
     "metadata": {},
     "output_type": "execute_result"
    }
   ],
   "source": [
    "netflix_imdb_df.head()"
   ]
  },
  {
   "cell_type": "code",
   "execution_count": 32,
   "id": "5413a277",
   "metadata": {
    "scrolled": true
   },
   "outputs": [
    {
     "name": "stdout",
     "output_type": "stream",
     "text": [
      "<class 'pandas.core.frame.DataFrame'>\n",
      "Int64Index: 17781 entries, 0 to 17780\n",
      "Data columns (total 16 columns):\n",
      " #   Column            Non-Null Count  Dtype  \n",
      "---  ------            --------------  -----  \n",
      " 0   type              17781 non-null  object \n",
      " 1   title             17781 non-null  object \n",
      " 2   director          17781 non-null  object \n",
      " 3   country           17781 non-null  object \n",
      " 4   release_year      17781 non-null  int64  \n",
      " 5   rating            17781 non-null  object \n",
      " 6   listed_in         17781 non-null  object \n",
      " 7   Movie_duration    14173 non-null  Int64  \n",
      " 8   TV Show_duration  3608 non-null   Int64  \n",
      " 9   tconst            17781 non-null  object \n",
      " 10  titleType         17781 non-null  object \n",
      " 11  primaryTitle      17781 non-null  object \n",
      " 12  isAdult           17781 non-null  int64  \n",
      " 13  startYear         17781 non-null  Int64  \n",
      " 14  averageRating     17781 non-null  float64\n",
      " 15  numVotes          17781 non-null  int64  \n",
      "dtypes: Int64(3), float64(1), int64(3), object(9)\n",
      "memory usage: 2.4+ MB\n"
     ]
    }
   ],
   "source": [
    "netflix_imdb_df.info()"
   ]
  },
  {
   "cell_type": "code",
   "execution_count": 33,
   "id": "b7ca5323",
   "metadata": {},
   "outputs": [],
   "source": [
    "netflix_imdb_df=netflix_imdb_df.drop(columns=['titleType','primaryTitle','startYear'])"
   ]
  },
  {
   "cell_type": "code",
   "execution_count": 34,
   "id": "f6ea296f",
   "metadata": {},
   "outputs": [
    {
     "name": "stdout",
     "output_type": "stream",
     "text": [
      "<class 'pandas.core.frame.DataFrame'>\n",
      "Int64Index: 17781 entries, 0 to 17780\n",
      "Data columns (total 13 columns):\n",
      " #   Column            Non-Null Count  Dtype  \n",
      "---  ------            --------------  -----  \n",
      " 0   type              17781 non-null  object \n",
      " 1   title             17781 non-null  object \n",
      " 2   director          17781 non-null  object \n",
      " 3   country           17781 non-null  object \n",
      " 4   release_year      17781 non-null  int64  \n",
      " 5   rating            17781 non-null  object \n",
      " 6   listed_in         17781 non-null  object \n",
      " 7   Movie_duration    14173 non-null  Int64  \n",
      " 8   TV Show_duration  3608 non-null   Int64  \n",
      " 9   tconst            17781 non-null  object \n",
      " 10  isAdult           17781 non-null  int64  \n",
      " 11  averageRating     17781 non-null  float64\n",
      " 12  numVotes          17781 non-null  int64  \n",
      "dtypes: Int64(2), float64(1), int64(3), object(7)\n",
      "memory usage: 1.9+ MB\n"
     ]
    }
   ],
   "source": [
    "netflix_imdb_df.info()"
   ]
  },
  {
   "cell_type": "code",
   "execution_count": 35,
   "id": "43df308e",
   "metadata": {
    "scrolled": true
   },
   "outputs": [
    {
     "data": {
      "text/plain": [
       "type                    0\n",
       "title                   0\n",
       "director                0\n",
       "country                 0\n",
       "release_year            0\n",
       "rating                  0\n",
       "listed_in               0\n",
       "Movie_duration       3608\n",
       "TV Show_duration    14173\n",
       "tconst                  0\n",
       "isAdult                 0\n",
       "averageRating           0\n",
       "numVotes                0\n",
       "dtype: int64"
      ]
     },
     "execution_count": 35,
     "metadata": {},
     "output_type": "execute_result"
    }
   ],
   "source": [
    "netflix_imdb_df.isna().sum()"
   ]
  },
  {
   "cell_type": "code",
   "execution_count": 38,
   "id": "abd46a10",
   "metadata": {},
   "outputs": [
    {
     "data": {
      "text/plain": [
       "type                    0\n",
       "title                   0\n",
       "director                0\n",
       "country                 0\n",
       "release_year            0\n",
       "rating                  0\n",
       "listed_in               0\n",
       "Movie_duration       3608\n",
       "TV Show_duration    14173\n",
       "tconst                  0\n",
       "isAdult                 0\n",
       "averageRating           0\n",
       "numVotes                0\n",
       "dtype: int64"
      ]
     },
     "execution_count": 38,
     "metadata": {},
     "output_type": "execute_result"
    }
   ],
   "source": [
    "netflix_imdb_df.isna().sum()"
   ]
  },
  {
   "cell_type": "code",
   "execution_count": 37,
   "id": "6b4fafe9",
   "metadata": {},
   "outputs": [],
   "source": [
    "netflix_imdb_df.to_csv('netflix_imdb.csv')"
   ]
  },
  {
   "cell_type": "code",
   "execution_count": 39,
   "id": "baafdbd4",
   "metadata": {},
   "outputs": [],
   "source": [
    "filtered_df = netflix_imdb_df.copy()"
   ]
  },
  {
   "cell_type": "code",
   "execution_count": 41,
   "id": "d621fc7e",
   "metadata": {},
   "outputs": [
    {
     "data": {
      "text/html": [
       "<div>\n",
       "<style scoped>\n",
       "    .dataframe tbody tr th:only-of-type {\n",
       "        vertical-align: middle;\n",
       "    }\n",
       "\n",
       "    .dataframe tbody tr th {\n",
       "        vertical-align: top;\n",
       "    }\n",
       "\n",
       "    .dataframe thead th {\n",
       "        text-align: right;\n",
       "    }\n",
       "</style>\n",
       "<table border=\"1\" class=\"dataframe\">\n",
       "  <thead>\n",
       "    <tr style=\"text-align: right;\">\n",
       "      <th></th>\n",
       "      <th>type</th>\n",
       "      <th>title</th>\n",
       "      <th>director</th>\n",
       "      <th>country</th>\n",
       "      <th>release_year</th>\n",
       "      <th>rating</th>\n",
       "      <th>listed_in</th>\n",
       "      <th>Movie_duration</th>\n",
       "      <th>TV Show_duration</th>\n",
       "      <th>tconst</th>\n",
       "      <th>isAdult</th>\n",
       "      <th>averageRating</th>\n",
       "      <th>numVotes</th>\n",
       "    </tr>\n",
       "  </thead>\n",
       "  <tbody>\n",
       "    <tr>\n",
       "      <th>0</th>\n",
       "      <td>Movie</td>\n",
       "      <td>Dick Johnson Is Dead</td>\n",
       "      <td>Kirsten Johnson</td>\n",
       "      <td>United States</td>\n",
       "      <td>2020</td>\n",
       "      <td>PG-13</td>\n",
       "      <td>Documentaries</td>\n",
       "      <td>90</td>\n",
       "      <td>&lt;NA&gt;</td>\n",
       "      <td>tt11394180</td>\n",
       "      <td>0</td>\n",
       "      <td>7.4</td>\n",
       "      <td>7549</td>\n",
       "    </tr>\n",
       "    <tr>\n",
       "      <th>1</th>\n",
       "      <td>TV Show</td>\n",
       "      <td>Ganglands</td>\n",
       "      <td>Julien Leclercq</td>\n",
       "      <td>United States</td>\n",
       "      <td>2021</td>\n",
       "      <td>TV-MA</td>\n",
       "      <td>Crime TV Shows</td>\n",
       "      <td>&lt;NA&gt;</td>\n",
       "      <td>1</td>\n",
       "      <td>tt13278100</td>\n",
       "      <td>0</td>\n",
       "      <td>7.2</td>\n",
       "      <td>4913</td>\n",
       "    </tr>\n",
       "    <tr>\n",
       "      <th>2</th>\n",
       "      <td>TV Show</td>\n",
       "      <td>Ganglands</td>\n",
       "      <td>Julien Leclercq</td>\n",
       "      <td>United States</td>\n",
       "      <td>2021</td>\n",
       "      <td>TV-MA</td>\n",
       "      <td>International TV Shows</td>\n",
       "      <td>&lt;NA&gt;</td>\n",
       "      <td>1</td>\n",
       "      <td>tt13278100</td>\n",
       "      <td>0</td>\n",
       "      <td>7.2</td>\n",
       "      <td>4913</td>\n",
       "    </tr>\n",
       "    <tr>\n",
       "      <th>3</th>\n",
       "      <td>TV Show</td>\n",
       "      <td>Ganglands</td>\n",
       "      <td>Julien Leclercq</td>\n",
       "      <td>United States</td>\n",
       "      <td>2021</td>\n",
       "      <td>TV-MA</td>\n",
       "      <td>TV Action &amp; Adventure</td>\n",
       "      <td>&lt;NA&gt;</td>\n",
       "      <td>1</td>\n",
       "      <td>tt13278100</td>\n",
       "      <td>0</td>\n",
       "      <td>7.2</td>\n",
       "      <td>4913</td>\n",
       "    </tr>\n",
       "    <tr>\n",
       "      <th>4</th>\n",
       "      <td>TV Show</td>\n",
       "      <td>Jailbirds New Orleans</td>\n",
       "      <td>Unknown</td>\n",
       "      <td>United States</td>\n",
       "      <td>2021</td>\n",
       "      <td>TV-MA</td>\n",
       "      <td>Docuseries</td>\n",
       "      <td>&lt;NA&gt;</td>\n",
       "      <td>1</td>\n",
       "      <td>tt15320436</td>\n",
       "      <td>0</td>\n",
       "      <td>6.5</td>\n",
       "      <td>337</td>\n",
       "    </tr>\n",
       "  </tbody>\n",
       "</table>\n",
       "</div>"
      ],
      "text/plain": [
       "      type                  title         director        country  \\\n",
       "0    Movie   Dick Johnson Is Dead  Kirsten Johnson  United States   \n",
       "1  TV Show              Ganglands  Julien Leclercq  United States   \n",
       "2  TV Show              Ganglands  Julien Leclercq  United States   \n",
       "3  TV Show              Ganglands  Julien Leclercq  United States   \n",
       "4  TV Show  Jailbirds New Orleans          Unknown  United States   \n",
       "\n",
       "   release_year rating               listed_in  Movie_duration  \\\n",
       "0          2020  PG-13           Documentaries              90   \n",
       "1          2021  TV-MA          Crime TV Shows            <NA>   \n",
       "2          2021  TV-MA  International TV Shows            <NA>   \n",
       "3          2021  TV-MA   TV Action & Adventure            <NA>   \n",
       "4          2021  TV-MA              Docuseries            <NA>   \n",
       "\n",
       "   TV Show_duration      tconst  isAdult  averageRating  numVotes  \n",
       "0              <NA>  tt11394180        0            7.4      7549  \n",
       "1                 1  tt13278100        0            7.2      4913  \n",
       "2                 1  tt13278100        0            7.2      4913  \n",
       "3                 1  tt13278100        0            7.2      4913  \n",
       "4                 1  tt15320436        0            6.5       337  "
      ]
     },
     "execution_count": 41,
     "metadata": {},
     "output_type": "execute_result"
    }
   ],
   "source": [
    "filtered_df.head()"
   ]
  }
 ],
 "metadata": {
  "kernelspec": {
   "display_name": "Python 3 (ipykernel)",
   "language": "python",
   "name": "python3"
  },
  "language_info": {
   "codemirror_mode": {
    "name": "ipython",
    "version": 3
   },
   "file_extension": ".py",
   "mimetype": "text/x-python",
   "name": "python",
   "nbconvert_exporter": "python",
   "pygments_lexer": "ipython3",
   "version": "3.11.4"
  }
 },
 "nbformat": 4,
 "nbformat_minor": 5
}
